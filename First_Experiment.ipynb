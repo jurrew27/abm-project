{
 "cells": [
  {
   "cell_type": "code",
   "execution_count": 1,
   "metadata": {},
   "outputs": [],
   "source": [
    "import mesa\n",
    "import random\n",
    "import matplotlib.pyplot as plt\n",
    "import numpy as np"
   ]
  },
  {
   "cell_type": "code",
   "execution_count": 2,
   "metadata": {},
   "outputs": [],
   "source": [
    "from mesa import Model\n",
    "from mesa import Agent\n",
    "from mesa.space import MultiGrid"
   ]
  },
  {
   "cell_type": "code",
   "execution_count": 3,
   "metadata": {},
   "outputs": [],
   "source": [
    "class Experiment_Model(Model):\n",
    "    def __init__(self, width, height):\n",
    "        self.height = width\n",
    "        self.width = height\n",
    "        \n",
    "        self.grid = MultiGrid(self.width, self.height, torus=True)\n",
    "        \n",
    "        self.n_agents = 0\n",
    "        self.agents = []\n",
    "        \n",
    "    def new_agent(self, agent_type, pos, energy,strategy=None):\n",
    "        '''\n",
    "        Method that enables us to add agents of a given type.\n",
    "        '''\n",
    "        self.n_agents += 1\n",
    "        \n",
    "        # Create a new agent of the given type\n",
    "        new_agent = agent_type(self.n_agents, self, pos, energy,strategy)\n",
    "        \n",
    "        # Place the agent on the grid\n",
    "        self.grid.place_agent(new_agent, pos)\n",
    "        \n",
    "        # And add the agent to the model so we can track it\n",
    "        self.agents.append(new_agent)\n",
    "        \n",
    "    def remove_agent(self, agent):\n",
    "        '''\n",
    "        Method that enables us to remove passed agents.\n",
    "        '''\n",
    "        self.n_agents -= 1\n",
    "        \n",
    "        # Remove agent from grid\n",
    "        self.grid.remove_agent(agent)\n",
    "        \n",
    "        # Remove agent from model\n",
    "        self.agents.remove(agent)\n",
    "        \n",
    "    def step(self):\n",
    "        '''\n",
    "        Method that steps every agent. \n",
    "        \n",
    "        Prevents applying step on new agents by creating a local list.\n",
    "        '''\n",
    "        '''\n",
    "        To process changes to randomwalkers:\n",
    "        '''\n",
    "        for agent in [agent for agent in self.agents if agent.__class__.__name__ =='RandomWalker']:\n",
    "            agent.step()\n",
    "\n",
    "        '''\n",
    "        To process claims on the food:\n",
    "        '''\n",
    "        for agent in [agent for agent in self.agents if agent.__class__.__name__ =='Food']:\n",
    "            agent.step()\n",
    "        '''\n",
    "        To add food to the grid with a total energy equal to the initial value of n_agents:\n",
    "        '''\n",
    "        for i in range(N_FOOD):\n",
    "            tester.new_agent(Food, random_pos(GRID_SIZE), FOOD_ENERGY)"
   ]
  },
  {
   "cell_type": "code",
   "execution_count": 4,
   "metadata": {},
   "outputs": [],
   "source": [
    "class Food(Agent):\n",
    "    def __init__(self, unique_id, model, pos, energy,strategy=None):\n",
    "        super().__init__(unique_id, model)\n",
    "        self.pos = pos\n",
    "        self.model = model\n",
    "        self.energy = energy\n",
    "        self.claims=[]\n",
    "    \n",
    "    def step(self):\n",
    "        if len(self.claims)==1:\n",
    "            self.claims[0].energy+=self.energy\n",
    "            self.model.remove_agent(self)\n",
    "        elif len(self.claims)>=2:\n",
    "            self.lucky=np.random.choice(self.claims,2,False)\n",
    "            self.lucky[0].battle(self.lucky[1],self.energy,PAYOFF_MATRIX)\n",
    "            self.model.remove_agent(self)"
   ]
  },
  {
   "cell_type": "code",
   "execution_count": 5,
   "metadata": {},
   "outputs": [],
   "source": [
    "class RandomWalker(Agent):\n",
    "    def __init__(self, unique_id, model, pos, energy,strategy=1):\n",
    "        super().__init__(unique_id, model)\n",
    "        self.pos = pos\n",
    "        self.model = model\n",
    "        self.energy = energy\n",
    "        self.strategy=strategy ###Can be 1 -Fair or 0 -Unfair\n",
    "    def random_move(self):\n",
    "        '''\n",
    "        This method should get the neighbouring cells (Moore's neighbourhood), select one, and move the agent to this cell.\n",
    "        '''\n",
    "        pos_new = random.choice(self.model.grid.get_neighborhood(self.pos, moore=True))\n",
    "        self.model.grid.move_agent(self, pos_new)\n",
    "    \n",
    "    def battle(self,rw,stake,payoffmatrix):\n",
    "        gain,enemygain=payoffmatrix[self.strategy][rw.strategy]\n",
    "        self.energy+=gain*stake\n",
    "        rw.energy+=enemygain*stake     \n",
    "        print(str(self)+': gain of '+str(gain*stake))    \n",
    "        print(str(rw)+': gain of '+str(enemygain*stake))  \n",
    "    \n",
    "    def step(self):\n",
    "\n",
    "        self.random_move()\n",
    "        self.energy -= COST_STEP\n",
    "\n",
    "        \n",
    "        agents_in_new_pos = self.model.grid.get_cell_list_contents(self.pos)\n",
    "        food_in_new_pos = [agent for agent in agents_in_new_pos if agent.__class__.__name__ =='Food']\n",
    "        #Eat, based on FCFS\n",
    "        for agent in food_in_new_pos:\n",
    "            agent.claims+=[self]\n",
    "        #Reproduce conditionally \n",
    "        if self.energy>REPRODUCTION_THRESHOLD:\n",
    "            self.model.new_agent(RandomWalker,self.pos,self.energy/2)\n",
    "            self.energy=self.energy/2\n",
    "        #Die conditionally\n",
    "        elif self.energy < 0:\n",
    "            self.model.remove_agent(self)\n",
    "        "
   ]
  },
  {
   "cell_type": "code",
   "execution_count": 6,
   "metadata": {},
   "outputs": [],
   "source": [
    "def random_pos(grid_size):\n",
    "    pos = np.random.randint(0, grid_size-1, size=(2,1))\n",
    "    return pos[0].item(0), pos[1].item(0)"
   ]
  },
  {
   "cell_type": "code",
   "execution_count": 7,
   "metadata": {},
   "outputs": [],
   "source": [
    "def plot_state(state, title=\"\",plot='A'):\n",
    "    '''\n",
    "    plot input:\n",
    "    A - number of agents in each cell\n",
    "    F - energy potential per cell in terms of food\n",
    "    R - (aggregated) energy of random walkers per cell \n",
    "    '''\n",
    "    cell_values = np.zeros((tester.grid.width, tester.grid.height))\n",
    "    for cell in tester.grid.coord_iter():\n",
    "        cell_content, x, y = cell\n",
    "        food_in_cell=[agent for agent in cell_content if agent.__class__.__name__ =='Food']\n",
    "        rw_in_cell=[agent for agent in cell_content if agent.__class__.__name__ =='RandomWalker']\n",
    "        if plot=='A':\n",
    "            cell_value = len(cell_content)\n",
    "        if plot=='F':\n",
    "            cell_value=sum([food.energy for food in food_in_cell])\n",
    "        elif plot=='R':\n",
    "            cell_value=sum([rw.energy for rw in rw_in_cell])\n",
    "        cell_values[x][y] = cell_value\n",
    "    plt.title(title)\n",
    "    plt.imshow(cell_values, interpolation='nearest')\n",
    "    plt.colorbar()\n",
    "    plt.show()"
   ]
  },
  {
   "cell_type": "code",
   "execution_count": 10,
   "metadata": {},
   "outputs": [
    {
     "data": {
      "image/png": "[encoded data removed]",
      "text/plain": [
       "<Figure size 432x288 with 2 Axes>"
      ]
     },
     "metadata": {
      "needs_background": "light"
     },
     "output_type": "display_data"
    },
    {
     "name": "stdout",
     "output_type": "stream",
     "text": [
      "<__main__.RandomWalker object at 0x119b85a10>: gain of 0\n",
      "<__main__.RandomWalker object at 0x119b85850>: gain of 0\n",
      "<__main__.RandomWalker object at 0x119b85250>: gain of 0\n",
      "<__main__.RandomWalker object at 0x119b85890>: gain of 2\n",
      "<__main__.RandomWalker object at 0x119b85a10>: gain of 0\n",
      "<__main__.RandomWalker object at 0x119b85850>: gain of 0\n",
      "<__main__.RandomWalker object at 0x119b85850>: gain of 0\n",
      "<__main__.RandomWalker object at 0x119b85a10>: gain of 0\n",
      "<__main__.RandomWalker object at 0x119b85150>: gain of 2\n",
      "<__main__.RandomWalker object at 0x119b858d0>: gain of 0\n",
      "<__main__.RandomWalker object at 0x119b858d0>: gain of 0\n",
      "<__main__.RandomWalker object at 0x119b85150>: gain of 2\n",
      "<__main__.RandomWalker object at 0x119b85190>: gain of 0\n",
      "<__main__.RandomWalker object at 0x119b85690>: gain of 2\n",
      "<__main__.RandomWalker object at 0x119b857d0>: gain of 1.0\n",
      "<__main__.RandomWalker object at 0x119b85290>: gain of 1.0\n",
      "<__main__.RandomWalker object at 0x119b856d0>: gain of 1.0\n",
      "<__main__.RandomWalker object at 0x119b85250>: gain of 1.0\n"
     ]
    },
    {
     "ename": "TypeError",
     "evalue": "list indices must be integers or slices, not NoneType",
     "output_type": "error",
     "traceback": [
      "\u001b[0;31m---------------------------------------------------------------------------\u001b[0m",
      "\u001b[0;31mTypeError\u001b[0m                                 Traceback (most recent call last)",
      "\u001b[0;32m<ipython-input-10-661e8d0556b2>\u001b[0m in \u001b[0;36m<module>\u001b[0;34m()\u001b[0m\n\u001b[1;32m     23\u001b[0m \u001b[0;34m\u001b[0m\u001b[0m\n\u001b[1;32m     24\u001b[0m \u001b[0;32mfor\u001b[0m \u001b[0mi\u001b[0m \u001b[0;32min\u001b[0m \u001b[0mrange\u001b[0m\u001b[0;34m(\u001b[0m\u001b[0mN_STEPS\u001b[0m\u001b[0;34m)\u001b[0m\u001b[0;34m:\u001b[0m\u001b[0;34m\u001b[0m\u001b[0;34m\u001b[0m\u001b[0m\n\u001b[0;32m---> 25\u001b[0;31m     \u001b[0mtester\u001b[0m\u001b[0;34m.\u001b[0m\u001b[0mstep\u001b[0m\u001b[0;34m(\u001b[0m\u001b[0;34m)\u001b[0m\u001b[0;34m\u001b[0m\u001b[0;34m\u001b[0m\u001b[0m\n\u001b[0m\u001b[1;32m     26\u001b[0m     \u001b[0mplot_title\u001b[0m \u001b[0;34m=\u001b[0m \u001b[0;34m\"Step \"\u001b[0m \u001b[0;34m+\u001b[0m \u001b[0mstr\u001b[0m\u001b[0;34m(\u001b[0m\u001b[0mi\u001b[0m\u001b[0;34m)\u001b[0m\u001b[0;34m\u001b[0m\u001b[0;34m\u001b[0m\u001b[0m\n\u001b[1;32m     27\u001b[0m     \u001b[0;31m#plot_state(tester, plot_title+ ': Number of Agents',plot='A')\u001b[0m\u001b[0;34m\u001b[0m\u001b[0;34m\u001b[0m\u001b[0;34m\u001b[0m\u001b[0m\n",
      "\u001b[0;32m<ipython-input-3-0c403572967a>\u001b[0m in \u001b[0;36mstep\u001b[0;34m(self)\u001b[0m\n\u001b[1;32m     52\u001b[0m         '''\n\u001b[1;32m     53\u001b[0m         \u001b[0;32mfor\u001b[0m \u001b[0magent\u001b[0m \u001b[0;32min\u001b[0m \u001b[0;34m[\u001b[0m\u001b[0magent\u001b[0m \u001b[0;32mfor\u001b[0m \u001b[0magent\u001b[0m \u001b[0;32min\u001b[0m \u001b[0mself\u001b[0m\u001b[0;34m.\u001b[0m\u001b[0magents\u001b[0m \u001b[0;32mif\u001b[0m \u001b[0magent\u001b[0m\u001b[0;34m.\u001b[0m\u001b[0m__class__\u001b[0m\u001b[0;34m.\u001b[0m\u001b[0m__name__\u001b[0m \u001b[0;34m==\u001b[0m\u001b[0;34m'Food'\u001b[0m\u001b[0;34m]\u001b[0m\u001b[0;34m:\u001b[0m\u001b[0;34m\u001b[0m\u001b[0;34m\u001b[0m\u001b[0m\n\u001b[0;32m---> 54\u001b[0;31m             \u001b[0magent\u001b[0m\u001b[0;34m.\u001b[0m\u001b[0mstep\u001b[0m\u001b[0;34m(\u001b[0m\u001b[0;34m)\u001b[0m\u001b[0;34m\u001b[0m\u001b[0;34m\u001b[0m\u001b[0m\n\u001b[0m\u001b[1;32m     55\u001b[0m         '''\n\u001b[1;32m     56\u001b[0m         \u001b[0mTo\u001b[0m \u001b[0madd\u001b[0m \u001b[0mfood\u001b[0m \u001b[0mto\u001b[0m \u001b[0mthe\u001b[0m \u001b[0mgrid\u001b[0m \u001b[0;32mwith\u001b[0m \u001b[0ma\u001b[0m \u001b[0mtotal\u001b[0m \u001b[0menergy\u001b[0m \u001b[0mequal\u001b[0m \u001b[0mto\u001b[0m \u001b[0mthe\u001b[0m \u001b[0minitial\u001b[0m \u001b[0mvalue\u001b[0m \u001b[0mof\u001b[0m \u001b[0mn_agents\u001b[0m\u001b[0;34m:\u001b[0m\u001b[0;34m\u001b[0m\u001b[0;34m\u001b[0m\u001b[0m\n",
      "\u001b[0;32m<ipython-input-4-fe187052bc0d>\u001b[0m in \u001b[0;36mstep\u001b[0;34m(self)\u001b[0m\n\u001b[1;32m     13\u001b[0m         \u001b[0;32melif\u001b[0m \u001b[0mlen\u001b[0m\u001b[0;34m(\u001b[0m\u001b[0mself\u001b[0m\u001b[0;34m.\u001b[0m\u001b[0mclaims\u001b[0m\u001b[0;34m)\u001b[0m\u001b[0;34m>=\u001b[0m\u001b[0;36m2\u001b[0m\u001b[0;34m:\u001b[0m\u001b[0;34m\u001b[0m\u001b[0;34m\u001b[0m\u001b[0m\n\u001b[1;32m     14\u001b[0m             \u001b[0mself\u001b[0m\u001b[0;34m.\u001b[0m\u001b[0mlucky\u001b[0m\u001b[0;34m=\u001b[0m\u001b[0mnp\u001b[0m\u001b[0;34m.\u001b[0m\u001b[0mrandom\u001b[0m\u001b[0;34m.\u001b[0m\u001b[0mchoice\u001b[0m\u001b[0;34m(\u001b[0m\u001b[0mself\u001b[0m\u001b[0;34m.\u001b[0m\u001b[0mclaims\u001b[0m\u001b[0;34m,\u001b[0m\u001b[0;36m2\u001b[0m\u001b[0;34m,\u001b[0m\u001b[0;32mFalse\u001b[0m\u001b[0;34m)\u001b[0m\u001b[0;34m\u001b[0m\u001b[0;34m\u001b[0m\u001b[0m\n\u001b[0;32m---> 15\u001b[0;31m             \u001b[0mself\u001b[0m\u001b[0;34m.\u001b[0m\u001b[0mlucky\u001b[0m\u001b[0;34m[\u001b[0m\u001b[0;36m0\u001b[0m\u001b[0;34m]\u001b[0m\u001b[0;34m.\u001b[0m\u001b[0mbattle\u001b[0m\u001b[0;34m(\u001b[0m\u001b[0mself\u001b[0m\u001b[0;34m.\u001b[0m\u001b[0mlucky\u001b[0m\u001b[0;34m[\u001b[0m\u001b[0;36m1\u001b[0m\u001b[0;34m]\u001b[0m\u001b[0;34m,\u001b[0m\u001b[0mself\u001b[0m\u001b[0;34m.\u001b[0m\u001b[0menergy\u001b[0m\u001b[0;34m,\u001b[0m\u001b[0mPAYOFF_MATRIX\u001b[0m\u001b[0;34m)\u001b[0m\u001b[0;34m\u001b[0m\u001b[0;34m\u001b[0m\u001b[0m\n\u001b[0m\u001b[1;32m     16\u001b[0m             \u001b[0mself\u001b[0m\u001b[0;34m.\u001b[0m\u001b[0mmodel\u001b[0m\u001b[0;34m.\u001b[0m\u001b[0mremove_agent\u001b[0m\u001b[0;34m(\u001b[0m\u001b[0mself\u001b[0m\u001b[0;34m)\u001b[0m\u001b[0;34m\u001b[0m\u001b[0;34m\u001b[0m\u001b[0m\n",
      "\u001b[0;32m<ipython-input-5-2f2ecdd44176>\u001b[0m in \u001b[0;36mbattle\u001b[0;34m(self, rw, stake, payoffmatrix)\u001b[0m\n\u001b[1;32m     14\u001b[0m \u001b[0;34m\u001b[0m\u001b[0m\n\u001b[1;32m     15\u001b[0m     \u001b[0;32mdef\u001b[0m \u001b[0mbattle\u001b[0m\u001b[0;34m(\u001b[0m\u001b[0mself\u001b[0m\u001b[0;34m,\u001b[0m\u001b[0mrw\u001b[0m\u001b[0;34m,\u001b[0m\u001b[0mstake\u001b[0m\u001b[0;34m,\u001b[0m\u001b[0mpayoffmatrix\u001b[0m\u001b[0;34m)\u001b[0m\u001b[0;34m:\u001b[0m\u001b[0;34m\u001b[0m\u001b[0;34m\u001b[0m\u001b[0m\n\u001b[0;32m---> 16\u001b[0;31m         \u001b[0mgain\u001b[0m\u001b[0;34m,\u001b[0m\u001b[0menemygain\u001b[0m\u001b[0;34m=\u001b[0m\u001b[0mpayoffmatrix\u001b[0m\u001b[0;34m[\u001b[0m\u001b[0mself\u001b[0m\u001b[0;34m.\u001b[0m\u001b[0mstrategy\u001b[0m\u001b[0;34m]\u001b[0m\u001b[0;34m[\u001b[0m\u001b[0mrw\u001b[0m\u001b[0;34m.\u001b[0m\u001b[0mstrategy\u001b[0m\u001b[0;34m]\u001b[0m\u001b[0;34m\u001b[0m\u001b[0;34m\u001b[0m\u001b[0m\n\u001b[0m\u001b[1;32m     17\u001b[0m         \u001b[0mself\u001b[0m\u001b[0;34m.\u001b[0m\u001b[0menergy\u001b[0m\u001b[0;34m+=\u001b[0m\u001b[0mgain\u001b[0m\u001b[0;34m*\u001b[0m\u001b[0mstake\u001b[0m\u001b[0;34m\u001b[0m\u001b[0;34m\u001b[0m\u001b[0m\n\u001b[1;32m     18\u001b[0m         \u001b[0mrw\u001b[0m\u001b[0;34m.\u001b[0m\u001b[0menergy\u001b[0m\u001b[0;34m+=\u001b[0m\u001b[0menemygain\u001b[0m\u001b[0;34m*\u001b[0m\u001b[0mstake\u001b[0m\u001b[0;34m\u001b[0m\u001b[0;34m\u001b[0m\u001b[0m\n",
      "\u001b[0;31mTypeError\u001b[0m: list indices must be integers or slices, not NoneType"
     ]
    }
   ],
   "source": [
    "GRID_SIZE = 10\n",
    "INIT_N_AGENTS = 25\n",
    "INIT_N_FOOD = 50\n",
    "INIT_ENERGY = 1\n",
    "FOOD_ENERGY = 2\n",
    "N_STEPS = 20\n",
    "COST_STEP = 0.1\n",
    "N_FOOD = 1\n",
    "REPRODUCTION_THRESHOLD=5\n",
    "PAYOFF_MATRIX=[[[0,0],[1,0]],\n",
    "               [[0,1],[0.5,0.5]]]\n",
    "\n",
    "\n",
    "tester = Experiment_Model(GRID_SIZE, GRID_SIZE)\n",
    "\n",
    "# Create a RandomWalker, so that we can call the random_move() method\n",
    "for i in range(INIT_N_AGENTS):\n",
    "    tester.new_agent(RandomWalker, random_pos(GRID_SIZE), INIT_ENERGY,np.random.randint(0,2))\n",
    "for i in range(INIT_N_FOOD):\n",
    "    tester.new_agent(Food, random_pos(GRID_SIZE), FOOD_ENERGY)\n",
    "\n",
    "plot_state(tester, \"Initialisation\")\n",
    "\n",
    "for i in range(N_STEPS):\n",
    "    tester.step()\n",
    "    plot_title = \"Step \" + str(i)\n",
    "    #plot_state(tester, plot_title+ ': Number of Agents',plot='A')\n",
    "#     plot_state(tester, plot_title+ ': Obtainable energy (food)',plot='F')\n",
    "#     plot_state(tester, plot_title+ ': Energy of random walkers',plot='R')"
   ]
  },
  {
   "cell_type": "code",
   "execution_count": null,
   "metadata": {},
   "outputs": [],
   "source": []
  }
 ],
 "metadata": {
  "kernelspec": {
   "display_name": "Python 3",
   "language": "python",
   "name": "python3"
  },
  "language_info": {
   "codemirror_mode": {
    "name": "ipython",
    "version": 3
   },
   "file_extension": ".py",
   "mimetype": "text/x-python",
   "name": "python",
   "nbconvert_exporter": "python",
   "pygments_lexer": "ipython3",
   "version": "3.7.6"
  }
 },
 "nbformat": 4,
 "nbformat_minor": 4
}
